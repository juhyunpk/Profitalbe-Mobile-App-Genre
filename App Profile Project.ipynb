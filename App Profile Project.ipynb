{
 "cells": [
  {
   "cell_type": "markdown",
   "metadata": {},
   "source": [
    "## Dataset\n",
    "> * [A data set](https://www.kaggle.com/lava18/google-play-store-apps/home): Approx. ten thousand apps from Google Play\n",
    "> * [A data set](https://www.kaggle.com/ramamet4/app-store-apple-data-set-10k-apps/home): Approx. seven thousand iOS apps from App Store"
   ]
  },
  {
   "cell_type": "code",
   "execution_count": 1,
   "metadata": {},
   "outputs": [],
   "source": [
    "from csv import reader\n",
    "\n",
    "### Google Play ###\n",
    "\n",
    "open_file = open('googleplaystore.csv', encoding = 'mbcs')\n",
    "read_file=reader(open_file)\n",
    "google=list(read_file)\n",
    "google_header=google[0]\n",
    "google=google[1:]\n",
    "\n",
    "\n",
    "### App Store###\n",
    "open_file = open('AppleStore.csv', encoding = 'mbcs')\n",
    "read_file=reader(open_file)\n",
    "apple=list(read_file)\n",
    "apple_header=apple[0]\n",
    "apple=apple[1:]\n"
   ]
  },
  {
   "cell_type": "markdown",
   "metadata": {},
   "source": [
    "## Data Exploring"
   ]
  },
  {
   "cell_type": "markdown",
   "metadata": {},
   "source": [
    "---\n",
    "* **Google Play**"
   ]
  },
  {
   "cell_type": "code",
   "execution_count": 2,
   "metadata": {},
   "outputs": [],
   "source": [
    "print(google_header)\n",
    "print(len(google_header))\n",
    "print(len(google))"
   ]
  },
  {
   "cell_type": "markdown",
   "metadata": {},
   "source": [
    "*The Google Play data has 10841 apps and 13 columns.*\n",
    "\n",
    "---"
   ]
  },
  {
   "cell_type": "markdown",
   "metadata": {},
   "source": [
    "* **App Store**"
   ]
  },
  {
   "cell_type": "code",
   "execution_count": 3,
   "metadata": {},
   "outputs": [],
   "source": [
    "print(apple_header)\n",
    "print(len(apple_header))\n",
    "print(len(apple))"
   ]
  },
  {
   "cell_type": "markdown",
   "metadata": {},
   "source": [
    "*The App Store data has 7197 apps and 16 columns.*\n",
    "\n",
    "---"
   ]
  },
  {
   "cell_type": "markdown",
   "metadata": {},
   "source": [
    "## Data Cleaning\n",
    "\n",
    "\n",
    "### Rating\n"
   ]
  },
  {
   "cell_type": "markdown",
   "metadata": {},
   "source": [
    "---\n",
    "* **Google Play**"
   ]
  },
  {
   "cell_type": "code",
   "execution_count": 4,
   "metadata": {},
   "outputs": [],
   "source": [
    "google_correct_rating=[]\n",
    "google_incorrect_rating=[]\n",
    "\n",
    "print(len(google))\n",
    "\n",
    "for x in google:\n",
    "    if float(x[2])<=5.0:\n",
    "        google_correct_rating.append(x)\n",
    "    else:\n",
    "        google_incorrect_rating.append(x)\n",
    "        \n",
    "google=google_correct_rating\n",
    "print(len(google))\n",
    "print(len(google_incorrect_rating))"
   ]
  },
  {
   "cell_type": "markdown",
   "metadata": {},
   "source": [
    "---\n",
    "* **App Store**\n"
   ]
  },
  {
   "cell_type": "markdown",
   "metadata": {},
   "source": [
    ">   *column 'user_rating' = average user rating value for all version.*  \n",
    ">   *column 'user_rating_ver' = average user rating value for current version*\n",
    ">    \n",
    ">   **'user_rating_ver' is going to be used to filter out the incorrect rating data**"
   ]
  },
  {
   "cell_type": "code",
   "execution_count": 5,
   "metadata": {},
   "outputs": [],
   "source": [
    "apple_correct_rating=[]\n",
    "apple_incorrect_rating=[]\n",
    "\n",
    "print(len(apple))\n",
    "\n",
    "for x in apple:\n",
    "    if float(x[8])<=5.0:\n",
    "        apple_correct_rating.append(x)\n",
    "    else:\n",
    "        apple_incorrect_rating.append(x)\n",
    "        \n",
    "apple=apple_correct_rating\n",
    "print(len(apple))\n",
    "print(len(apple_incorrect_rating))"
   ]
  },
  {
   "cell_type": "markdown",
   "metadata": {},
   "source": [
    "---"
   ]
  },
  {
   "cell_type": "markdown",
   "metadata": {},
   "source": [
    "\n",
    "### Removing Duplicate Entries\n",
    "\n",
    "\n",
    "> Duplicate Entries were found within the google data\n",
    ">\n",
    "> When duplicated rows were examined, the main difference with these data was in the number of reviews. The solution to fix this duplicate is to keep the rows that have the highest number of reviews"
   ]
  },
  {
   "cell_type": "code",
   "execution_count": 6,
   "metadata": {},
   "outputs": [],
   "source": [
    "# figure out the max review count for each unique app name\n",
    "\n",
    "google_review_max={}\n",
    "\n",
    "for x in google:\n",
    "    name=x[0]\n",
    "    review_count=float(x[3])\n",
    "    if name in google_review_max and google_review_max[name]<review_count:\n",
    "        google_review_max[name]=review_count\n",
    "    elif name not in google_review_max:\n",
    "        google_review_max[name]=review_count\n",
    "        \n"
   ]
  },
  {
   "cell_type": "code",
   "execution_count": 7,
   "metadata": {},
   "outputs": [
    {
     "name": "stdout",
     "output_type": "stream",
     "text": [
      "8196\n"
     ]
    }
   ],
   "source": [
    "# removing the data duplicates with lower number of reviews\n",
    "google_clean=[]\n",
    "google_already_added=[]\n",
    "\n",
    "for x in google:\n",
    "    if google_review_max[x[0]]==float(x[3]) and x[0] not in google_already_added:\n",
    "        google_clean.append(x)\n",
    "        google_already_added.append(x[0])\n",
    "        \n",
    "google=google_clean       \n",
    "print(len(google))\n"
   ]
  },
  {
   "cell_type": "markdown",
   "metadata": {},
   "source": [
    "\n",
    "### Removing Non-English Apps\n",
    "> Remove apps with non-Enligh name\n",
    ">\n",
    "> Traditional English texts are encoded using the ASCII standard, which has a corresponding number between 0 and 127 associated with it.\n",
    ">\n",
    "> *In order to keep the English name apps with non-traditional English letters (emoji, symbols), we are filtering out the app only if it has more than 3 non-ASCII characters*"
   ]
  },
  {
   "cell_type": "code",
   "execution_count": 8,
   "metadata": {},
   "outputs": [
    {
     "name": "stdout",
     "output_type": "stream",
     "text": [
      "8080\n",
      "6100\n"
     ]
    }
   ],
   "source": [
    "def is_english(string):\n",
    "    non_ascii=0\n",
    "    \n",
    "    for x in string:\n",
    "        if ord(x)>127:\n",
    "            non_ascii+=1\n",
    "            \n",
    "    if non_ascii>3:\n",
    "        return False\n",
    "    \n",
    "    else:\n",
    "        return True\n",
    "    \n",
    "\n",
    "    \n",
    "google_english=[]\n",
    "apple_english=[]\n",
    "\n",
    "\n",
    "\n",
    "for x in google:\n",
    "    if is_english(x[0]):\n",
    "        google_english.append(x)\n",
    "\n",
    "for x in apple:\n",
    "    if is_english(x[1]):\n",
    "        apple_english.append(x)\n",
    "        \n",
    "google=google_english\n",
    "apple=apple_english\n",
    "\n",
    "print(len(google))\n",
    "print(len(apple))"
   ]
  },
  {
   "cell_type": "markdown",
   "metadata": {},
   "source": [
    "### Isolating the Free Apps"
   ]
  },
  {
   "cell_type": "code",
   "execution_count": 9,
   "metadata": {},
   "outputs": [
    {
     "name": "stdout",
     "output_type": "stream",
     "text": [
      "7488\n",
      "3169\n"
     ]
    }
   ],
   "source": [
    "google_free=[]\n",
    "apple_free=[]\n",
    "\n",
    "\n",
    "for x in google:\n",
    "    if x[7]=='0':\n",
    "        google_free.append(x)\n",
    "        \n",
    "for x in apple:\n",
    "    if float(x[4])==0.0:\n",
    "        apple_free.append(x)\n",
    "        \n",
    "google=google_free\n",
    "apple=apple_free\n",
    "\n",
    "print(len(google))\n",
    "print(len(apple))"
   ]
  },
  {
   "cell_type": "markdown",
   "metadata": {},
   "source": [
    "## Data Exploration\n",
    "\n",
    "### Most Commn App Genre"
   ]
  },
  {
   "cell_type": "code",
   "execution_count": 28,
   "metadata": {},
   "outputs": [],
   "source": [
    "# generate frequency table with % and display the percentages in a descending order\n",
    "def freq (dataset, index):\n",
    "    table= {}\n",
    "    total = 0\n",
    "    \n",
    "    for x in dataset:\n",
    "        total+=1\n",
    "        if x[index] in table:\n",
    "            table[x[index]]+=1\n",
    "        else:\n",
    "            table[x[index]]=1\n",
    "            \n",
    "    percentage={}\n",
    "    for x in table:\n",
    "        percentage[x]=(table[x]/total)*100\n",
    "    \n",
    "    return percentage\n",
    "\n",
    "#use sorted function to sort the tuple\n",
    "def sort_freq(dataset,index):\n",
    "    display=[]\n",
    "    percentage_table=freq(dataset,index)\n",
    "    for x in percentage_table:\n",
    "        tuple_formed=(percentage_table[x],x)\n",
    "        display.append(tuple_formed)\n",
    "        \n",
    "    table_sorted=sorted(display, reverse=True)\n",
    "    \n",
    "    for x in table_sorted:\n",
    "        print(x[1],\":\",x[0])\n",
    "\n"
   ]
  },
  {
   "cell_type": "markdown",
   "metadata": {},
   "source": [
    "---\n",
    "* **App Store**"
   ]
  },
  {
   "cell_type": "code",
   "execution_count": 30,
   "metadata": {},
   "outputs": [
    {
     "name": "stdout",
     "output_type": "stream",
     "text": [
      "Games : 58.53581571473651\n",
      "Entertainment : 7.82581255916693\n",
      "Photo & Video : 5.0489113284947935\n",
      "Education : 3.72357210476491\n",
      "Social Networking : 3.2817923635216157\n",
      "Shopping : 2.5244556642473968\n",
      "Utilities : 2.398232881035027\n",
      "Sports : 2.1773430104133795\n",
      "Music : 2.0511202272010096\n",
      "Health & Fitness : 1.9880088355948247\n",
      "Productivity : 1.7040075733669928\n",
      "Lifestyle : 1.5462290943515304\n",
      "News : 1.3253392237298833\n",
      "Travel : 1.1360050489113285\n",
      "Finance : 1.1044493531082362\n",
      "Weather : 0.8520037866834964\n",
      "Food & Drink : 0.8204480908804039\n",
      "Reference : 0.5364468286525718\n",
      "Business : 0.5364468286525718\n",
      "Book : 0.3786683496371095\n",
      "Navigation : 0.18933417481855475\n",
      "Medical : 0.18933417481855475\n",
      "Catalogs : 0.12622278321236985\n"
     ]
    }
   ],
   "source": [
    "sort_freq(apple,-5)"
   ]
  },
  {
   "cell_type": "markdown",
   "metadata": {},
   "source": [
    "App Store's free English app market is dominated by apps that are designed for fun (games, entertainment, photo and video, social networking, sports, musick, etc). However, the fact that fun apps are the most numerous does not imply that they also have the greates number of users. What it does suggest that **the for-fun apps market in App Store might be a bit saturated.**"
   ]
  },
  {
   "cell_type": "markdown",
   "metadata": {},
   "source": [
    "---\n",
    "* **Google Play**"
   ]
  },
  {
   "cell_type": "code",
   "execution_count": 31,
   "metadata": {},
   "outputs": [
    {
     "name": "stdout",
     "output_type": "stream",
     "text": [
      "FAMILY : 19.618055555555554\n",
      "GAME : 10.790598290598291\n",
      "TOOLS : 8.693910256410255\n",
      "FINANCE : 3.8327991452991457\n",
      "PRODUCTIVITY : 3.766025641025641\n",
      "LIFESTYLE : 3.6992521367521367\n",
      "BUSINESS : 3.378739316239316\n",
      "PHOTOGRAPHY : 3.311965811965812\n",
      "SPORTS : 3.1517094017094016\n",
      "HEALTH_AND_FITNESS : 3.111645299145299\n",
      "COMMUNICATION : 3.111645299145299\n",
      "PERSONALIZATION : 3.0715811965811963\n",
      "MEDICAL : 3.018162393162393\n",
      "SOCIAL : 2.6308760683760686\n",
      "NEWS_AND_MAGAZINES : 2.6308760683760686\n",
      "TRAVEL_AND_LOCAL : 2.363782051282051\n",
      "SHOPPING : 2.3504273504273505\n",
      "BOOKS_AND_REFERENCE : 2.110042735042735\n",
      "VIDEO_PLAYERS : 1.9230769230769231\n",
      "DATING : 1.7227564102564104\n",
      "MAPS_AND_NAVIGATION : 1.469017094017094\n",
      "EDUCATION : 1.3621794871794872\n",
      "FOOD_AND_DRINK : 1.215277777777778\n",
      "ENTERTAINMENT : 1.1217948717948718\n",
      "AUTO_AND_VEHICLES : 0.9481837606837606\n",
      "WEATHER : 0.8413461538461539\n",
      "LIBRARIES_AND_DEMO : 0.8012820512820512\n",
      "HOUSE_AND_HOME : 0.7745726495726496\n",
      "ART_AND_DESIGN : 0.734508547008547\n",
      "COMICS : 0.6677350427350427\n",
      "PARENTING : 0.6143162393162394\n",
      "EVENTS : 0.6009615384615385\n",
      "BEAUTY : 0.5608974358974359\n"
     ]
    }
   ],
   "source": [
    "# google play data had both genre and category columns\n",
    "\n",
    "\n",
    "#Category \n",
    "sort_freq(google,1)"
   ]
  },
  {
   "cell_type": "code",
   "execution_count": 32,
   "metadata": {},
   "outputs": [
    {
     "name": "stdout",
     "output_type": "stream",
     "text": [
      "Tools : 8.680555555555555\n",
      "Entertainment : 6.022970085470085\n",
      "Education : 5.435363247863248\n",
      "Finance : 3.8327991452991457\n",
      "Productivity : 3.766025641025641\n",
      "Lifestyle : 3.685897435897436\n",
      "Action : 3.5389957264957266\n",
      "Business : 3.378739316239316\n",
      "Photography : 3.311965811965812\n",
      "Sports : 3.2318376068376073\n",
      "Health & Fitness : 3.111645299145299\n",
      "Communication : 3.111645299145299\n",
      "Personalization : 3.0715811965811963\n",
      "Medical : 3.018162393162393\n",
      "Social : 2.6308760683760686\n",
      "News & Magazines : 2.6308760683760686\n",
      "Travel & Local : 2.3504273504273505\n",
      "Shopping : 2.3504273504273505\n",
      "Simulation : 2.323717948717949\n",
      "Books & Reference : 2.110042735042735\n",
      "Arcade : 2.0165598290598292\n",
      "Casual : 1.9497863247863247\n",
      "Video Players & Editors : 1.8963675213675213\n",
      "Dating : 1.7227564102564104\n",
      "Maps & Navigation : 1.469017094017094\n",
      "Food & Drink : 1.215277777777778\n",
      "Racing : 1.1217948717948718\n",
      "Puzzle : 1.108440170940171\n",
      "Role Playing : 1.0683760683760684\n",
      "Strategy : 1.0283119658119657\n",
      "Auto & Vehicles : 0.9481837606837606\n",
      "Weather : 0.8413461538461539\n",
      "Libraries & Demo : 0.8012820512820512\n",
      "House & Home : 0.7745726495726496\n",
      "Adventure : 0.7478632478632479\n",
      "Art & Design : 0.6810897435897436\n",
      "Comics : 0.6543803418803419\n",
      "Events : 0.6009615384615385\n",
      "Beauty : 0.5608974358974359\n",
      "Parenting : 0.4941239316239316\n",
      "Card : 0.4941239316239316\n",
      "Casino : 0.4540598290598291\n",
      "Educational;Education : 0.4407051282051282\n",
      "Board : 0.4273504273504274\n",
      "Educational : 0.4006410256410256\n",
      "Education;Education : 0.4006410256410256\n",
      "Trivia : 0.3605769230769231\n",
      "Word : 0.28044871794871795\n",
      "Casual;Pretend Play : 0.28044871794871795\n",
      "Music : 0.2136752136752137\n",
      "Puzzle;Brain Games : 0.2003205128205128\n",
      "Entertainment;Music & Video : 0.2003205128205128\n",
      "Racing;Action & Adventure : 0.1736111111111111\n",
      "Casual;Brain Games : 0.16025641025641024\n",
      "Casual;Action & Adventure : 0.16025641025641024\n",
      "Arcade;Action & Adventure : 0.13354700854700854\n",
      "Action;Action & Adventure : 0.1201923076923077\n",
      "Educational;Pretend Play : 0.10683760683760685\n",
      "Simulation;Action & Adventure : 0.09348290598290598\n",
      "Entertainment;Brain Games : 0.09348290598290598\n",
      "Casual;Creativity : 0.08012820512820512\n",
      "Art & Design;Creativity : 0.08012820512820512\n",
      "Parenting;Music & Video : 0.06677350427350427\n",
      "Educational;Brain Games : 0.06677350427350427\n",
      "Education;Pretend Play : 0.06677350427350427\n",
      "Board;Brain Games : 0.06677350427350427\n",
      "Role Playing;Pretend Play : 0.05341880341880342\n",
      "Education;Creativity : 0.05341880341880342\n",
      "Role Playing;Action & Adventure : 0.04006410256410256\n",
      "Puzzle;Action & Adventure : 0.04006410256410256\n",
      "Parenting;Education : 0.04006410256410256\n",
      "Entertainment;Creativity : 0.04006410256410256\n",
      "Entertainment;Action & Adventure : 0.04006410256410256\n",
      "Educational;Creativity : 0.04006410256410256\n",
      "Educational;Action & Adventure : 0.04006410256410256\n",
      "Education;Music & Video : 0.04006410256410256\n",
      "Education;Brain Games : 0.04006410256410256\n",
      "Education;Action & Adventure : 0.04006410256410256\n",
      "Adventure;Action & Adventure : 0.04006410256410256\n",
      "Video Players & Editors;Music & Video : 0.02670940170940171\n",
      "Sports;Action & Adventure : 0.02670940170940171\n",
      "Simulation;Pretend Play : 0.02670940170940171\n",
      "Puzzle;Creativity : 0.02670940170940171\n",
      "Music;Music & Video : 0.02670940170940171\n",
      "Entertainment;Pretend Play : 0.02670940170940171\n",
      "Casual;Education : 0.02670940170940171\n",
      "Board;Action & Adventure : 0.02670940170940171\n",
      "Video Players & Editors;Creativity : 0.013354700854700856\n",
      "Travel & Local;Action & Adventure : 0.013354700854700856\n",
      "Tools;Education : 0.013354700854700856\n",
      "Strategy;Education : 0.013354700854700856\n",
      "Strategy;Creativity : 0.013354700854700856\n",
      "Strategy;Action & Adventure : 0.013354700854700856\n",
      "Simulation;Education : 0.013354700854700856\n",
      "Role Playing;Brain Games : 0.013354700854700856\n",
      "Racing;Pretend Play : 0.013354700854700856\n",
      "Puzzle;Education : 0.013354700854700856\n",
      "Parenting;Brain Games : 0.013354700854700856\n",
      "Music & Audio;Music & Video : 0.013354700854700856\n",
      "Lifestyle;Pretend Play : 0.013354700854700856\n",
      "Lifestyle;Education : 0.013354700854700856\n",
      "Health & Fitness;Education : 0.013354700854700856\n",
      "Health & Fitness;Action & Adventure : 0.013354700854700856\n",
      "Entertainment;Education : 0.013354700854700856\n",
      "Communication;Creativity : 0.013354700854700856\n",
      "Comics;Creativity : 0.013354700854700856\n",
      "Card;Action & Adventure : 0.013354700854700856\n",
      "Books & Reference;Education : 0.013354700854700856\n",
      "Art & Design;Pretend Play : 0.013354700854700856\n",
      "Arcade;Pretend Play : 0.013354700854700856\n",
      "Adventure;Education : 0.013354700854700856\n"
     ]
    }
   ],
   "source": [
    "#Genre \n",
    "sort_freq(google,-4)"
   ]
  },
  {
   "cell_type": "markdown",
   "metadata": {},
   "source": [
    "Practical apps (family, tools, business, lifestyle, productiviy, etc) seem to have a better representation on Google Play compared to App Store. \n",
    "\n",
    "The difference between *Genre* and the *Category* column is not clear. However, *Category* column seems more generic (focusing on the bigger picture at the moment) and thus will be used for analysis.  "
   ]
  },
  {
   "cell_type": "markdown",
   "metadata": {},
   "source": [
    "### Most Popular App Genre\n",
    "\n",
    "> Will determine the popularity of the app based on the average number of installs \n",
    "\n",
    "---\n",
    "* **App Store**\n",
    "> This data set was missing the number of install information.\n",
    ">\n",
    "> As a workaround, total number of user ratings is used as a proxy (should be sufficient to determine the most popular genre)"
   ]
  },
  {
   "cell_type": "code",
   "execution_count": 33,
   "metadata": {},
   "outputs": [
    {
     "name": "stdout",
     "output_type": "stream",
     "text": [
      "Productivity : 21799.14814814815\n",
      "Weather : 54215.2962962963\n",
      "Shopping : 27816.2\n",
      "Reference : 79350.4705882353\n",
      "Finance : 32367.02857142857\n",
      "Music : 58205.03076923077\n",
      "Utilities : 19900.473684210527\n",
      "Travel : 31358.5\n",
      "Social Networking : 72916.54807692308\n",
      "Sports : 23008.898550724636\n",
      "Health & Fitness : 24037.634920634922\n",
      "Games : 22985.211320754715\n",
      "Food & Drink : 33333.92307692308\n",
      "News : 21750.071428571428\n",
      "Book : 46384.916666666664\n",
      "Photo & Video : 28441.54375\n",
      "Entertainment : 14364.774193548386\n",
      "Business : 7491.117647058823\n",
      "Lifestyle : 16739.34693877551\n",
      "Education : 7003.983050847458\n",
      "Navigation : 86090.33333333333\n",
      "Medical : 612.0\n",
      "Catalogs : 4004.0\n"
     ]
    }
   ],
   "source": [
    "genre_apple = freq(apple, -5)\n",
    "\n",
    "\n",
    "for y in genre_apple:\n",
    "    total_review_for_the_genre = 0\n",
    "    genre_app_count = 0 \n",
    "    for x in apple:\n",
    "        if x[-5]==y:\n",
    "            total_review_for_the_genre+=float(x[5])\n",
    "            genre_app_count+=1\n",
    "    print(y,\":\", total_review_for_the_genre/genre_app_count)"
   ]
  },
  {
   "cell_type": "markdown",
   "metadata": {},
   "source": [
    "**Popular genres but those that do not fit our purpose or resource should be elimiated:**\n",
    "* Weather Apps - people do not spend much time on it and thus won't be profitable for the in app advertisement. Also its hard to provide reliable live weather \n",
    "* Food and drink - popular apps within this genre are the apps from big  brands like Starbucks, Dunkin' Donuts etc\n",
    "* Finance apps - popular apps within this genre involves highly technical functions like banking, paying bills, money transfering.  \n"
   ]
  },
  {
   "cell_type": "code",
   "execution_count": 36,
   "metadata": {},
   "outputs": [
    {
     "name": "stdout",
     "output_type": "stream",
     "text": [
      "Waze - GPS Navigation, Maps & Real-time Traffic : 345046\n",
      "GeocachingÂ® : 12811\n",
      "ImmobilienScout24: Real Estate Search in Germany : 187\n",
      "Railway Route Search : 5\n",
      "CoPilot GPS â€“ Car Navigation & Offline Maps : 3582\n",
      "Google Maps - Navigation & Transit : 154911\n"
     ]
    }
   ],
   "source": [
    "for x in apple:\n",
    "    if x[-5]==\"Navigation\":\n",
    "        print(x[1],\":\",x[5])\n",
    "       "
   ]
  },
  {
   "cell_type": "markdown",
   "metadata": {},
   "source": [
    "The average number or ratings seem to be skewed by very few apps. Ex) Waze, Google Maps for Navigation. Ex) Facebook, Pinterest, Skype For Social Networking Apps, etc. When the aim is to find popular genres, these genre with a few giants might seem more popular than they really are. \n",
    "\n",
    "----\n",
    "* **Google Play**\n",
    "\n",
    "> Google data has number of installs column. The data is not in precise number format but a range of number format like 1,000,000,000+, 500,000,000+, 10,000,000+ and so. However, for the purpose of figuring out the popular genre, leaving the numbers as they are (consider 100,000+ has 100,000) should be sufficient.\n"
   ]
  },
  {
   "cell_type": "code",
   "execution_count": 41,
   "metadata": {},
   "outputs": [
    {
     "name": "stdout",
     "output_type": "stream",
     "text": [
      "ART_AND_DESIGN : 2058474.5454545454\n",
      "AUTO_AND_VEHICLES : 746194.3661971831\n",
      "BEAUTY : 640861.9047619047\n",
      "BOOKS_AND_REFERENCE : 9909550.664556962\n",
      "BUSINESS : 2753974.1501976284\n",
      "COMICS : 876222.0\n",
      "COMMUNICATION : 47153997.98283262\n",
      "DATING : 1088343.488372093\n",
      "EDUCATION : 1850490.1960784313\n",
      "ENTERTAINMENT : 11767380.952380951\n",
      "EVENTS : 354431.3333333333\n",
      "FINANCE : 1550929.6167247386\n",
      "FOOD_AND_DRINK : 2314480.769230769\n",
      "HEALTH_AND_FITNESS : 4907867.896995708\n",
      "HOUSE_AND_HOME : 1646068.9655172413\n",
      "LIBRARIES_AND_DEMO : 839716.6666666666\n",
      "LIFESTYLE : 1792061.4079422383\n",
      "GAME : 16303715.909653466\n",
      "FAMILY : 4196324.206943499\n",
      "MEDICAL : 166567.15044247787\n",
      "SOCIAL : 27826545.558375634\n",
      "SHOPPING : 7950633.181818182\n",
      "PHOTOGRAPHY : 18775260.524193548\n",
      "SPORTS : 4640371.461864407\n",
      "TRAVEL_AND_LOCAL : 16354046.892655367\n",
      "TOOLS : 12439973.394777266\n",
      "PERSONALIZATION : 6561236.565217392\n",
      "PRODUCTIVITY : 20537621.879432622\n",
      "PARENTING : 664261.0869565217\n",
      "WEATHER : 5709285.714285715\n",
      "VIDEO_PLAYERS : 27296709.722222224\n",
      "NEWS_AND_MAGAZINES : 12020249.492385786\n",
      "MAPS_AND_NAVIGATION : 4526786.0\n"
     ]
    }
   ],
   "source": [
    "genre_google = freq(google,1)\n",
    "\n",
    "for y in genre_google:\n",
    "    total_install_for_the_genre=0\n",
    "    genre_app_count=0\n",
    "    \n",
    "    for x in google:\n",
    "        if x[1]==y:\n",
    "            n_installs=x[5]\n",
    "            n_installs= n_installs.replace(',','')\n",
    "            n_installs= n_installs.replace('+','')\n",
    "            total_install_for_the_genre+=float(n_installs)\n",
    "            genre_app_count+=1\n",
    "    \n",
    "    print(y,\":\", total_install_for_the_genre/genre_app_count)"
   ]
  },
  {
   "cell_type": "markdown",
   "metadata": {},
   "source": [
    "Same skewness happens in Google Play as it happend in the App Store. Few of the very popular apps biased the populairty of some genres like communication, video players, social apps, photography apps, and productivity apps"
   ]
  },
  {
   "cell_type": "code",
   "execution_count": 42,
   "metadata": {},
   "outputs": [
    {
     "name": "stdout",
     "output_type": "stream",
     "text": [
      "WhatsApp Messenger : 1,000,000,000+\n",
      "imo beta free calls and text : 100,000,000+\n",
      "Android Messages : 100,000,000+\n",
      "Google Duo - High Quality Video Calls : 500,000,000+\n",
      "Messenger â€“ Text and Video Chat for Free : 1,000,000,000+\n",
      "imo free video calls and chat : 500,000,000+\n",
      "Skype - free IM & video calls : 1,000,000,000+\n",
      "Who : 100,000,000+\n",
      "GO SMS Pro - Messenger, Free Themes, Emoji : 100,000,000+\n",
      "LINE: Free Calls & Messages : 500,000,000+\n",
      "Google Chrome: Fast & Secure : 1,000,000,000+\n",
      "Firefox Browser fast & private : 100,000,000+\n",
      "UC Browser - Fast Download Private & Secure : 500,000,000+\n",
      "Gmail : 1,000,000,000+\n",
      "Hangouts : 1,000,000,000+\n",
      "Messenger Lite: Free Calls & Messages : 100,000,000+\n",
      "Kik : 100,000,000+\n",
      "KakaoTalk: Free Calls & Text : 100,000,000+\n",
      "Opera Mini - fast web browser : 100,000,000+\n",
      "Opera Browser: Fast and Secure : 100,000,000+\n",
      "Telegram : 100,000,000+\n",
      "Truecaller: Caller ID, SMS spam blocking & Dialer : 100,000,000+\n",
      "UC Browser Mini -Tiny Fast Private & Secure : 100,000,000+\n",
      "Viber Messenger : 500,000,000+\n",
      "WeChat : 100,000,000+\n",
      "Yahoo Mail â€“ Stay Organized : 100,000,000+\n",
      "BBM - Free Calls & Messages : 100,000,000+\n"
     ]
    }
   ],
   "source": [
    "#Understand the skewness of the Communcation Category\n",
    "\n",
    "\n",
    "# apps with over million installs\n",
    "for x in google:\n",
    "    if x[1]==\"COMMUNICATION\" and (x[5]==\"1,000,000,000+\" or x[5]=='500,000,000+' or x[5]==\"100,000,000+\"):\n",
    "        print(x[0],\":\",x[5])"
   ]
  },
  {
   "cell_type": "code",
   "execution_count": 46,
   "metadata": {},
   "outputs": [
    {
     "data": {
      "text/plain": [
       "4305250.145631068"
      ]
     },
     "execution_count": 46,
     "metadata": {},
     "output_type": "execute_result"
    }
   ],
   "source": [
    "#removing these overly popular few apps bring down the average of the number installs greatly\n",
    "\n",
    "\n",
    "under_100m=[]\n",
    "for x in google:\n",
    "    n_installs=x[5]\n",
    "    n_installs= n_installs.replace(',','')\n",
    "    n_installs= n_installs.replace('+','')\n",
    "    if(x[1]==\"COMMUNICATION\") and (float(n_installs)<100000000):\n",
    "        under_100m.append(float(n_installs))\n",
    "    \n",
    "\n",
    "        \n",
    "sum(under_100m)/len(under_100m)"
   ]
  },
  {
   "cell_type": "markdown",
   "metadata": {},
   "source": [
    "----\n",
    "\n",
    "\n",
    "**By eliminating some of the popular genres (overly saturated genre, too technical genre, etc), there is one fairly popular genre in both App store and Google Play that seems penetratable** \n",
    "\n",
    "### BOOKS AND REFERENCE GENRE\n",
    "\n",
    "\n",
    "\n",
    "---\n",
    "* **App Store**"
   ]
  },
  {
   "cell_type": "code",
   "execution_count": 51,
   "metadata": {},
   "outputs": [
    {
     "name": "stdout",
     "output_type": "stream",
     "text": [
      "Bible : 985920\n",
      "Dictionary.com Dictionary & Thesaurus : 200047\n",
      "Dictionary.com Dictionary & Thesaurus for iPad : 54175\n",
      "Muslim Pro: Ramadan 2017 Prayer Times, Azan, Quran : 18418\n",
      "Merriam-Webster Dictionary : 16849\n",
      "Google Translate : 26786\n",
      "Night Sky : 12122\n",
      "WWDC : 762\n",
      "Jishokun-Japanese English Dictionary & Translator : 0\n",
      "VPN Express : 14\n",
      "New Furniture Mods - Pocket Wiki & Game Tools for Minecraft PC Edition : 17588\n",
      "LUCKY BLOCK MOD â„¢ for Minecraft PC Edition - The Best Pocket Wiki & Mods Installer Tools : 4693\n",
      "Guides for PokÃ©mon GO - Pokemon GO News and Cheats : 826\n",
      "Horror Maps for Minecraft PE - Download The Scariest Maps for Minecraft Pocket Edition (MCPE) Free : 718\n",
      "City Maps for Minecraft PE - The Best Maps for Minecraft Pocket Edition (MCPE) : 8535\n",
      "GUNS MODS for Minecraft PC Edition - Mods Tools : 1497\n",
      "Real Bike Traffic Rider Virtual Reality Glasses : 8\n"
     ]
    }
   ],
   "source": [
    "for x in apple:\n",
    "    if x[-5]==\"Reference\":\n",
    "        print(x[1],\":\",x[5])"
   ]
  },
  {
   "cell_type": "markdown",
   "metadata": {},
   "source": [
    " ----\n",
    "* **Google Play**"
   ]
  },
  {
   "cell_type": "code",
   "execution_count": 52,
   "metadata": {},
   "outputs": [
    {
     "name": "stdout",
     "output_type": "stream",
     "text": [
      "E-Book Read - Read Book for free : 50,000+\n",
      "Download free book with green book : 100,000+\n",
      "Wikipedia : 10,000,000+\n",
      "Cool Reader : 10,000,000+\n",
      "Free Panda Radio Music : 100,000+\n",
      "Book store : 1,000,000+\n",
      "FBReader: Favorite Book Reader : 10,000,000+\n",
      "English Grammar Complete Handbook : 500,000+\n",
      "Free Books - Spirit Fanfiction and Stories : 1,000,000+\n",
      "Google Play Books : 1,000,000,000+\n",
      "AlReader -any text book reader : 5,000,000+\n",
      "Offline English Dictionary : 100,000+\n",
      "Offline: English to Tagalog Dictionary : 500,000+\n",
      "FamilySearch Tree : 1,000,000+\n",
      "Cloud of Books : 1,000,000+\n",
      "Recipes of Prophetic Medicine for free : 500,000+\n",
      "ReadEra â€“ free ebook reader : 1,000,000+\n",
      "Ebook Reader : 5,000,000+\n",
      "Litnet - E-books : 100,000+\n",
      "Read books online : 5,000,000+\n",
      "English to Urdu Dictionary : 500,000+\n",
      "eBoox: book reader fb2 epub zip : 1,000,000+\n",
      "English Persian Dictionary : 500,000+\n",
      "Flybook : 500,000+\n",
      "All Maths Formulas : 1,000,000+\n",
      "Ancestry : 5,000,000+\n",
      "HTC Help : 10,000,000+\n",
      "English translation from Bengali : 100,000+\n",
      "Pdf Book Download - Read Pdf Book : 100,000+\n",
      "Free Book Reader : 100,000+\n",
      "eBoox new: Reader for fb2 epub zip books : 50,000+\n",
      "Only 30 days in English, the guideline is guaranteed : 500,000+\n",
      "Moon+ Reader : 10,000,000+\n",
      "English-Myanmar Dictionary : 1,000,000+\n",
      "Golden Dictionary (EN-AR) : 1,000,000+\n",
      "All Language Translator Free : 1,000,000+\n",
      "Azpen eReader : 500,000+\n",
      "Bible : 100,000,000+\n",
      "C Programs and Reference : 50,000+\n",
      "C Offline Tutorial : 1,000+\n",
      "C Programs Handbook : 50,000+\n",
      "Amazon Kindle : 100,000,000+\n",
      "Aab e Hayat Full Novel : 100,000+\n",
      "Aldiko Book Reader : 10,000,000+\n",
      "Google I/O 2018 : 500,000+\n",
      "R Language Reference Guide : 10,000+\n",
      "R Programing Offline Tutorial : 1,000+\n",
      "V Made : 100,000+\n",
      "Dictionary - WordWeb : 5,000,000+\n",
      "Guide (for X-MEN) : 100,000+\n",
      "AC Air condition Troubleshoot,Repair,Maintenance : 5,000+\n",
      "AE Bulletins : 1,000+\n",
      "Ae Allah na Dai (Rasa) : 10,000+\n",
      "50000 Free eBooks & Free AudioBooks : 5,000,000+\n",
      "Ag PhD Field Guide : 10,000+\n",
      "Ag PhD Deficiencies : 10,000+\n",
      "Fertilizer Removal By Crop : 50,000+\n",
      "Al-Quran (Free) : 10,000,000+\n",
      "Al Quran (Tafsir & by Word) : 500,000+\n",
      "Al Quran Indonesia : 10,000,000+\n",
      "Al'Quran Bahasa Indonesia : 10,000,000+\n",
      "Al Quran Al karim : 1,000,000+\n",
      "Al-Muhaffiz : 50,000+\n",
      "Al Quran : EAlim - Translations & MP3 Offline : 5,000,000+\n",
      "Al-Quran 30 Juz free copies : 500,000+\n",
      "Koran Read &MP3 30 Juz Offline : 1,000,000+\n",
      "Hafizi Quran 15 lines per page : 1,000,000+\n",
      "Quran for Android : 10,000,000+\n",
      "Surah Al-Waqiah : 100,000+\n",
      "Hisnul Al Muslim - Hisn Invocations & Adhkaar : 100,000+\n",
      "Satellite AR : 1,000,000+\n",
      "Audiobooks from Audible : 100,000,000+\n",
      "Kinot & Eichah for Tisha B'Av : 10,000+\n",
      "AW Tozer Devotionals - Daily : 5,000+\n",
      "Tozer Devotional -Series 1 : 1,000+\n",
      "The Pursuit of God : 1,000+\n",
      "AY Sing : 5,000+\n",
      "Ay Hasnain k Nana Milad Naat : 10,000+\n",
      "Ay Mohabbat Teri Khatir Novel : 10,000+\n",
      "Arizona Statutes, ARS (AZ Law) : 1,000+\n",
      "Oxford A-Z of English Usage : 1,000,000+\n",
      "BD Fishpedia : 1,000+\n",
      "BD All Sim Offer : 10,000+\n",
      "Youboox - Livres, BD et magazines : 500,000+\n",
      "B&H Kids AR : 10,000+\n",
      "B y H NiÃ±os ES : 5,000+\n",
      "Dictionary.com: Find Definitions for English Words : 10,000,000+\n",
      "English Dictionary - Offline : 10,000,000+\n",
      "Bible KJV : 5,000,000+\n",
      "Borneo Bible, BM Bible : 10,000+\n",
      "BM Box : 1,000+\n",
      "NOOK: Read eBooks & Magazines : 10,000,000+\n",
      "NOOK Audiobooks : 500,000+\n",
      "NOOK App for NOOK Devices : 500,000+\n",
      "Browsery by Barnes & Noble : 5,000+\n",
      "bp e-store : 1,000+\n",
      "Brilliant Quotes: Life, Love, Family & Motivation : 1,000,000+\n",
      "BR Ambedkar Biography & Quotes : 10,000+\n",
      "Catholic La Bu Zo Kam : 500+\n",
      "Kristian Hla Bu : 10,000+\n",
      "SA HLA BU : 1,000+\n",
      "CA Laws 2018 (California Laws and Codes) : 5,000+\n",
      "Bootable Methods(USB-CD-DVD) : 10,000+\n",
      "cloudLibrary : 100,000+\n",
      "SDA Collegiate Quarterly : 500+\n",
      "Sabbath School : 100,000+\n",
      "Stats Royale for Clash Royale : 1,000,000+\n",
      "Learn CT Scan Of Head : 5,000+\n",
      "Easy Cv maker 2018 : 10,000+\n",
      "How to Write CV : 100,000+\n",
      "CW Nuclear : 1,000+\n",
      "CZ-Help : 5+\n",
      "Guide for DB Xenoverse : 10,000+\n",
      "Guide for DB Xenoverse 2 : 10,000+\n",
      "DC HSEMA : 5,000+\n",
      "DC Public Library : 1,000+\n",
      "Dictionary : 10,000,000+\n",
      "Fix Error Google Playstore : 1,000+\n",
      "Bilingual Dictionary Audio App : 5,000+\n",
      "DM Screen : 10,000+\n",
      "wikiHow: how to do anything : 1,000,000+\n",
      "Dr. Doug's Tips : 1,000+\n",
      "Bible du Semeur-BDS (French) : 50,000+\n",
      "La citadelle du musulman : 50,000+\n",
      "DV 2019 Entry Guide : 10,000+\n",
      "DV 2019 - EDV Photo & Form : 50,000+\n",
      "DV 2018 Winners Guide : 1,000+\n",
      "EB Annual Meetings : 1,000+\n",
      "EC - AP & Telangana : 5,000+\n",
      "TN Patta Citta & EC : 10,000+\n",
      "AP Stamps and Registration : 10,000+\n",
      "EGW Writings 2 : 100,000+\n",
      "EGW Writings : 1,000,000+\n",
      "Bible with EGW Comments : 100,000+\n",
      "My Little Pony AR Guide : 1,000,000+\n",
      "SDA Sabbath School Quarterly : 500,000+\n",
      "Duaa Ek Ibaadat : 5,000+\n",
      "Spanish English Translator : 10,000,000+\n",
      "Dictionary - Merriam-Webster : 10,000,000+\n",
      "JW Library : 10,000,000+\n",
      "Oxford Dictionary of English : Free : 10,000,000+\n",
      "English Hindi Dictionary : 10,000,000+\n",
      "English to Hindi Dictionary : 5,000,000+\n",
      "EP Research Service : 1,000+\n",
      "Hymnes et Louanges : 100,000+\n",
      "EU Charter : 1,000+\n",
      "EU Data Protection : 1,000+\n",
      "BakaReader EX : 100,000+\n",
      "EZ Quran : 50,000+\n",
      "FA Part 1 & 2 Past Papers Solved Free â€“ Offline : 5,000+\n",
      "Florida - Pocket Brainbook : 1,000+\n",
      "Florida Statutes (FL Code) : 1,000+\n",
      "English To Shona Dictionary : 10,000+\n",
      "Golden Dictionary (FR-AR) : 500,000+\n",
      "Fanfic-FR : 5,000+\n",
      "Bulgarian French Dictionary Fr : 10,000+\n",
      "Chemin (fr) : 1,000+\n",
      "The SCP Foundation DB fr nn5n : 1,000+\n"
     ]
    }
   ],
   "source": [
    "for x in google:\n",
    "    if x[1]==\"BOOKS_AND_REFERENCE\":\n",
    "        print(x[0],\":\",x[5])"
   ]
  },
  {
   "cell_type": "markdown",
   "metadata": {},
   "source": [
    "----\n",
    "\n",
    "Both app markets are skewed by a small number of extremely popular apps. However, let's try to get some app ideas based on the kind of apps that are somwehre in the middle in terms of popularity\n",
    "\n"
   ]
  },
  {
   "cell_type": "code",
   "execution_count": 55,
   "metadata": {},
   "outputs": [
    {
     "name": "stdout",
     "output_type": "stream",
     "text": [
      "Wikipedia : 10,000,000+\n",
      "Cool Reader : 10,000,000+\n",
      "Book store : 1,000,000+\n",
      "FBReader: Favorite Book Reader : 10,000,000+\n",
      "Free Books - Spirit Fanfiction and Stories : 1,000,000+\n",
      "AlReader -any text book reader : 5,000,000+\n",
      "FamilySearch Tree : 1,000,000+\n",
      "Cloud of Books : 1,000,000+\n",
      "ReadEra â€“ free ebook reader : 1,000,000+\n",
      "Ebook Reader : 5,000,000+\n",
      "Read books online : 5,000,000+\n",
      "eBoox: book reader fb2 epub zip : 1,000,000+\n",
      "All Maths Formulas : 1,000,000+\n",
      "Ancestry : 5,000,000+\n",
      "HTC Help : 10,000,000+\n",
      "Moon+ Reader : 10,000,000+\n",
      "English-Myanmar Dictionary : 1,000,000+\n",
      "Golden Dictionary (EN-AR) : 1,000,000+\n",
      "All Language Translator Free : 1,000,000+\n",
      "Aldiko Book Reader : 10,000,000+\n",
      "Dictionary - WordWeb : 5,000,000+\n",
      "50000 Free eBooks & Free AudioBooks : 5,000,000+\n",
      "Al-Quran (Free) : 10,000,000+\n",
      "Al Quran Indonesia : 10,000,000+\n",
      "Al'Quran Bahasa Indonesia : 10,000,000+\n",
      "Al Quran Al karim : 1,000,000+\n",
      "Al Quran : EAlim - Translations & MP3 Offline : 5,000,000+\n",
      "Koran Read &MP3 30 Juz Offline : 1,000,000+\n",
      "Hafizi Quran 15 lines per page : 1,000,000+\n",
      "Quran for Android : 10,000,000+\n",
      "Satellite AR : 1,000,000+\n",
      "Oxford A-Z of English Usage : 1,000,000+\n",
      "Dictionary.com: Find Definitions for English Words : 10,000,000+\n",
      "English Dictionary - Offline : 10,000,000+\n",
      "Bible KJV : 5,000,000+\n",
      "NOOK: Read eBooks & Magazines : 10,000,000+\n",
      "Brilliant Quotes: Life, Love, Family & Motivation : 1,000,000+\n",
      "Stats Royale for Clash Royale : 1,000,000+\n",
      "Dictionary : 10,000,000+\n",
      "wikiHow: how to do anything : 1,000,000+\n",
      "EGW Writings : 1,000,000+\n",
      "My Little Pony AR Guide : 1,000,000+\n",
      "Spanish English Translator : 10,000,000+\n",
      "Dictionary - Merriam-Webster : 10,000,000+\n",
      "JW Library : 10,000,000+\n",
      "Oxford Dictionary of English : Free : 10,000,000+\n",
      "English Hindi Dictionary : 10,000,000+\n",
      "English to Hindi Dictionary : 5,000,000+\n"
     ]
    }
   ],
   "source": [
    "for x in google:\n",
    "    if x[1]==\"BOOKS_AND_REFERENCE\" and (x[5]==\"1,000,000+\" or x[5]==\"5,000,000+\" or x[5] == \"10,000,000+\" or x[5]==\"50,000,000+\"):\n",
    "        print(x[0],\":\",x[5])"
   ]
  },
  {
   "cell_type": "markdown",
   "metadata": {},
   "source": [
    "In this middle market, there seems 1. software for reading ebooks and 2. dicitionaries/library 3.popular book (Quran)\n",
    "\n",
    "\n",
    "### Conclusion\n",
    "\n",
    "\n",
    "In this project, App Store and Google Play apps were analyzed to provide an app profile that can be profitable for in-app advertisment. \n",
    "\n",
    "Conclusion is among the popular app genres, avoid the saturated genre and highly techincal market to pick a penetrable genre like Book and Reference. Then try implementing new features to differentiate the app from others. Ex) Take a popular, free book and add some special features like daily quote, quizzes on the book, discussion forum, etc"
   ]
  }
 ],
 "metadata": {
  "kernelspec": {
   "display_name": "Python 3",
   "language": "python",
   "name": "python3"
  },
  "language_info": {
   "codemirror_mode": {
    "name": "ipython",
    "version": 3
   },
   "file_extension": ".py",
   "mimetype": "text/x-python",
   "name": "python",
   "nbconvert_exporter": "python",
   "pygments_lexer": "ipython3",
   "version": "3.7.3"
  }
 },
 "nbformat": 4,
 "nbformat_minor": 2
}
