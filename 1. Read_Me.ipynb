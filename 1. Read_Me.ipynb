{
 "cells": [
  {
   "cell_type": "markdown",
   "metadata": {},
   "source": [
    "# Profitable Mobile App Profiles for the App Store and Google Play Market \n",
    "\n",
    "\n",
    "> Goal: identify the app profile that attract the most users\n",
    ">\n",
    "> Purpose: create an app to make profit out of app-featured advertisement\n",
    ">\n",
    "> ONLY interested in apps with following characteristics:\n",
    ">    * Free to download\n",
    ">    * Directed toward an English-speaking audience\n"
   ]
  }
 ],
 "metadata": {
  "kernelspec": {
   "display_name": "Python 3",
   "language": "python",
   "name": "python3"
  },
  "language_info": {
   "codemirror_mode": {
    "name": "ipython",
    "version": 3
   },
   "file_extension": ".py",
   "mimetype": "text/x-python",
   "name": "python",
   "nbconvert_exporter": "python",
   "pygments_lexer": "ipython3",
   "version": "3.7.3"
  }
 },
 "nbformat": 4,
 "nbformat_minor": 2
}
